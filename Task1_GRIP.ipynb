{
 "cells": [
  {
   "cell_type": "markdown",
   "metadata": {},
   "source": [
    "              \n",
    "<html> \n",
    "    <body>\n",
    "        <b>\n",
    "       <font size=\"2\"\n",
    "          face=\"verdana\"\n",
    "          color=\"steelblue\"\n",
    "          style=\"margin-left:50.5em\">\n",
    "            Author : SWEETY ROY\n",
    "        </font>\n",
    "        </b>\n",
    "    <br> \n",
    "    </body> \n",
    "</html>\n"
   ]
  },
  {
   "cell_type": "markdown",
   "metadata": {},
   "source": [
    "<html> \n",
    "     <body>\n",
    "      <font size=\"4\"\n",
    "          face=\"verdana\"\n",
    "          color=\"black\"\n",
    "          style=\"margin-left:30.5em\">\n",
    "          <b> GRIP @The Sparks Foundation </b>\n",
    "        </font>\n",
    "         <br><br><br>\n",
    "       <font size=\"4.5\"\n",
    "          face=\"Courier New\"\n",
    "          color=\"black\"\n",
    "          >\n",
    "          <b> Domain: Data Science and Business Analytics<br>\n",
    "Task Type: Prediction using Supervised ML<br>\n",
    "Level - Beginner<br>\n",
    "Task 1:Predict the percentage score of a student based on the study hours. </b>\n",
    "        </font>\n",
    "\n",
    "  </body> \n",
    "</html>\n"
   ]
  },
  {
   "cell_type": "markdown",
   "metadata": {},
   "source": [
    "\n",
    "<b><big>Reading the data</big></b><br/>\n",
    "The data has one file \"http://bit.ly/w-data\". This file contains scores and Hours studied for 25 students. "
   ]
  },
  {
   "cell_type": "markdown",
   "metadata": {},
   "source": [
    "## Data description\n",
    "The business meaning of each column in the data is as below\n",
    "\n",
    "* <b>Hours</b>: indicates the hours studied per day.\n",
    "* <b>Scores</b>: The percentage scores of each student.\n",
    " </b>"
   ]
  },
  {
   "cell_type": "code",
   "execution_count": 2,
   "metadata": {},
   "outputs": [],
   "source": [
    "import numpy as np\n",
    "import pandas as pd"
   ]
  },
  {
   "cell_type": "code",
   "execution_count": 3,
   "metadata": {},
   "outputs": [],
   "source": [
    "import warnings\n",
    "warnings.filterwarnings('ignore')"
   ]
  },
  {
   "cell_type": "code",
   "execution_count": 4,
   "metadata": {},
   "outputs": [
    {
     "name": "stdout",
     "output_type": "stream",
     "text": [
      "(25, 2)\n"
     ]
    },
    {
     "data": {
      "text/html": [
       "<div>\n",
       "<style scoped>\n",
       "    .dataframe tbody tr th:only-of-type {\n",
       "        vertical-align: middle;\n",
       "    }\n",
       "\n",
       "    .dataframe tbody tr th {\n",
       "        vertical-align: top;\n",
       "    }\n",
       "\n",
       "    .dataframe thead th {\n",
       "        text-align: right;\n",
       "    }\n",
       "</style>\n",
       "<table border=\"1\" class=\"dataframe\">\n",
       "  <thead>\n",
       "    <tr style=\"text-align: right;\">\n",
       "      <th></th>\n",
       "      <th>Hours</th>\n",
       "      <th>Scores</th>\n",
       "    </tr>\n",
       "  </thead>\n",
       "  <tbody>\n",
       "    <tr>\n",
       "      <th>16</th>\n",
       "      <td>2.5</td>\n",
       "      <td>30</td>\n",
       "    </tr>\n",
       "    <tr>\n",
       "      <th>19</th>\n",
       "      <td>7.4</td>\n",
       "      <td>69</td>\n",
       "    </tr>\n",
       "    <tr>\n",
       "      <th>22</th>\n",
       "      <td>3.8</td>\n",
       "      <td>35</td>\n",
       "    </tr>\n",
       "    <tr>\n",
       "      <th>3</th>\n",
       "      <td>8.5</td>\n",
       "      <td>75</td>\n",
       "    </tr>\n",
       "    <tr>\n",
       "      <th>18</th>\n",
       "      <td>6.1</td>\n",
       "      <td>67</td>\n",
       "    </tr>\n",
       "  </tbody>\n",
       "</table>\n",
       "</div>"
      ],
      "text/plain": [
       "    Hours  Scores\n",
       "16    2.5      30\n",
       "19    7.4      69\n",
       "22    3.8      35\n",
       "3     8.5      75\n",
       "18    6.1      67"
      ]
     },
     "execution_count": 4,
     "metadata": {},
     "output_type": "execute_result"
    }
   ],
   "source": [
    "# Pandas lib is used to read a csv file by prodiving the path of file to read_csv() function\n",
    "# The output of read_csv function here is stored as a DataFrame\n",
    "\n",
    "student_data = pd.read_csv('http://bit.ly/w-data')\n",
    "print(student_data.shape)\n",
    "student_data.sample(n=5,\n",
    "       random_state=56,\n",
    "    axis=0)"
   ]
  },
  {
   "cell_type": "code",
   "execution_count": 9,
   "metadata": {},
   "outputs": [
    {
     "name": "stdout",
     "output_type": "stream",
     "text": [
      "Shape After deleting duplicate values: (25, 2)\n"
     ]
    }
   ],
   "source": [
    "# Removing duplicate rows if any\n",
    "student_data=student_data.drop_duplicates()\n",
    "print('Shape After deleting duplicate values:', student_data.shape)"
   ]
  },
  {
   "cell_type": "markdown",
   "metadata": {},
   "source": [
    "# Defining the problem statement: \n",
    "#### Create a ML model which can predict the Percentage score of students based on the study hours\n",
    "* Target Variable: Scores\n",
    "* Predictors: Hours"
   ]
  },
  {
   "cell_type": "markdown",
   "metadata": {},
   "source": [
    "# Determining the type of Machine Learning\n",
    "Based on the problem statement you can understand that we need to create a <b>supervised ML Regression model</b>, as the <b> target variable </b> is Continuous."
   ]
  },
  {
   "cell_type": "code",
   "execution_count": 34,
   "metadata": {},
   "outputs": [
    {
     "data": {
      "image/png": "[encoded data removed]",
      "text/plain": [
       "<Figure size 432x288 with 1 Axes>"
      ]
     },
     "metadata": {
      "needs_background": "light"
     },
     "output_type": "display_data"
    }
   ],
   "source": [
    "%matplotlib inline\n",
    "import matplotlib.pyplot as plt\n",
    "# Creating Bar chart as the Target variable is Continuous\n",
    "plt.hist(student_data['Scores'],color='black', edgecolor='white',\n",
    "              linewidth=1)\n",
    "plt.xlabel(\"% Scores\")\n",
    "plt.ylabel(\"No.of Records\")\n",
    "plt.title(\"Distribution Plot for Target Variable\")\n",
    " \n",
    "plt.show()"
   ]
  },
  {
   "cell_type": "markdown",
   "metadata": {},
   "source": [
    " There are sufficient number of rows in this distribution for each type of values."
   ]
  },
  {
   "cell_type": "markdown",
   "metadata": {},
   "source": [
    "# Basic Data Exploration"
   ]
  },
  {
   "cell_type": "code",
   "execution_count": 6,
   "metadata": {},
   "outputs": [
    {
     "data": {
      "text/plain": [
       "Hours     23\n",
       "Scores    23\n",
       "dtype: int64"
      ]
     },
     "execution_count": 6,
     "metadata": {},
     "output_type": "execute_result"
    }
   ],
   "source": [
    "student_data.nunique()"
   ]
  },
  {
   "cell_type": "code",
   "execution_count": 7,
   "metadata": {},
   "outputs": [
    {
     "name": "stdout",
     "output_type": "stream",
     "text": [
      "<class 'pandas.core.frame.DataFrame'>\n",
      "RangeIndex: 25 entries, 0 to 24\n",
      "Data columns (total 2 columns):\n",
      " #   Column  Non-Null Count  Dtype  \n",
      "---  ------  --------------  -----  \n",
      " 0   Hours   25 non-null     float64\n",
      " 1   Scores  25 non-null     int64  \n",
      "dtypes: float64(1), int64(1)\n",
      "memory usage: 528.0 bytes\n"
     ]
    }
   ],
   "source": [
    "student_data.info()"
   ]
  },
  {
   "cell_type": "code",
   "execution_count": 8,
   "metadata": {},
   "outputs": [
    {
     "data": {
      "text/html": [
       "<div>\n",
       "<style scoped>\n",
       "    .dataframe tbody tr th:only-of-type {\n",
       "        vertical-align: middle;\n",
       "    }\n",
       "\n",
       "    .dataframe tbody tr th {\n",
       "        vertical-align: top;\n",
       "    }\n",
       "\n",
       "    .dataframe thead th {\n",
       "        text-align: right;\n",
       "    }\n",
       "</style>\n",
       "<table border=\"1\" class=\"dataframe\">\n",
       "  <thead>\n",
       "    <tr style=\"text-align: right;\">\n",
       "      <th></th>\n",
       "      <th>Hours</th>\n",
       "      <th>Scores</th>\n",
       "    </tr>\n",
       "  </thead>\n",
       "  <tbody>\n",
       "    <tr>\n",
       "      <th>count</th>\n",
       "      <td>25.000000</td>\n",
       "      <td>25.000000</td>\n",
       "    </tr>\n",
       "    <tr>\n",
       "      <th>mean</th>\n",
       "      <td>5.012000</td>\n",
       "      <td>51.480000</td>\n",
       "    </tr>\n",
       "    <tr>\n",
       "      <th>std</th>\n",
       "      <td>2.525094</td>\n",
       "      <td>25.286887</td>\n",
       "    </tr>\n",
       "    <tr>\n",
       "      <th>min</th>\n",
       "      <td>1.100000</td>\n",
       "      <td>17.000000</td>\n",
       "    </tr>\n",
       "    <tr>\n",
       "      <th>25%</th>\n",
       "      <td>2.700000</td>\n",
       "      <td>30.000000</td>\n",
       "    </tr>\n",
       "    <tr>\n",
       "      <th>50%</th>\n",
       "      <td>4.800000</td>\n",
       "      <td>47.000000</td>\n",
       "    </tr>\n",
       "    <tr>\n",
       "      <th>75%</th>\n",
       "      <td>7.400000</td>\n",
       "      <td>75.000000</td>\n",
       "    </tr>\n",
       "    <tr>\n",
       "      <th>max</th>\n",
       "      <td>9.200000</td>\n",
       "      <td>95.000000</td>\n",
       "    </tr>\n",
       "  </tbody>\n",
       "</table>\n",
       "</div>"
      ],
      "text/plain": [
       "           Hours     Scores\n",
       "count  25.000000  25.000000\n",
       "mean    5.012000  51.480000\n",
       "std     2.525094  25.286887\n",
       "min     1.100000  17.000000\n",
       "25%     2.700000  30.000000\n",
       "50%     4.800000  47.000000\n",
       "75%     7.400000  75.000000\n",
       "max     9.200000  95.000000"
      ]
     },
     "execution_count": 8,
     "metadata": {},
     "output_type": "execute_result"
    }
   ],
   "source": [
    "student_data.describe(include='all')"
   ]
  },
  {
   "cell_type": "markdown",
   "metadata": {},
   "source": [
    "# Basic Data Exploration Results"
   ]
  },
  {
   "cell_type": "markdown",
   "metadata": {},
   "source": [
    "* <b>Hours</b>: Continuous \n",
    "* <b>Scores</b>: Categorical, <b>Target Variable!</b>\n"
   ]
  },
  {
   "cell_type": "markdown",
   "metadata": {},
   "source": [
    "# Visual Exploratory Data Analysis\n",
    "## Univariate Analaysis- Understanding the data distribution\n",
    "\n",
    "* Continuous variables: Histogram"
   ]
  },
  {
   "cell_type": "code",
   "execution_count": 39,
   "metadata": {
    "scrolled": true
   },
   "outputs": [
    {
     "name": "stdout",
     "output_type": "stream",
     "text": [
      "Index(['Hours', 'Scores'], dtype='object')\n"
     ]
    },
    {
     "data": {
      "text/plain": [
       "array([[<AxesSubplot:title={'center':'Hours'}>,\n",
       "        <AxesSubplot:title={'center':'Scores'}>]], dtype=object)"
      ]
     },
     "execution_count": 39,
     "metadata": {},
     "output_type": "execute_result"
    },
    {
     "data": {
      "image/png": "[encoded data removed]",
      "text/plain": [
       "<Figure size 1440x360 with 2 Axes>"
      ]
     },
     "metadata": {
      "needs_background": "light"
     },
     "output_type": "display_data"
    }
   ],
   "source": [
    "%matplotlib inline\n",
    "import MyLibrary\n",
    "\n",
    "from MyLibrary import newfunction\n",
    "\n",
    "print(student_data.columns)\n",
    "\n",
    "# Calling the function\n",
    "# Plotting histograms of multiple columns together\n",
    "student_data.hist(['Hours','Scores'], figsize=(20,5), grid=False,color='yellow', edgecolor='red')"
   ]
  },
  {
   "cell_type": "markdown",
   "metadata": {},
   "source": [
    "# Feature Selection\n",
    "\n",
    "## Bivariate Analaysis- Understanding the covariance between the predictor and target variable\n",
    "\n",
    "* Continuous Vs Continuous ---- Scatter Plot"
   ]
  },
  {
   "cell_type": "code",
   "execution_count": 51,
   "metadata": {},
   "outputs": [
    {
     "data": {
      "image/png": "[encoded data removed]",
      "text/plain": [
       "<Figure size 432x288 with 1 Axes>"
      ]
     },
     "metadata": {
      "needs_background": "light"
     },
     "output_type": "display_data"
    },
    {
     "name": "stdout",
     "output_type": "stream",
     "text": [
      "Correlation Matrix:\n",
      "\n",
      "           Hours    Scores\n",
      "Hours   1.000000  0.976191\n",
      "Scores  0.976191  1.000000\n"
     ]
    }
   ],
   "source": [
    "student_data.plot(x='Hours', y='Scores', style='o',markersize=10, markerfacecolor='green',)  \n",
    "plt.title('Hours vs Percentage_marks')  \n",
    "plt.xlabel('Hours Studied')  \n",
    "plt.ylabel('Percentage Score')  \n",
    "plt.show()\n",
    "print(\"Correlation Matrix:\\n\")\n",
    "print(student_data.corr())     "
   ]
  },
  {
   "cell_type": "markdown",
   "metadata": {},
   "source": [
    "# Scatter charts interpretation\n",
    "\n",
    "<html> \n",
    "     <body>\n",
    "      <font size=\"4\"\n",
    "          face=\"verdana\"\n",
    "          color=\"orange\"\n",
    "          >\n",
    "          <b> Increasing Trend </b>\n",
    "          </font>\n",
    "     </body> \n",
    "</html>  <br>       \n",
    "From the graph above, we can clearly see that there is a positive linear relation between the number of hours studied and percentage of score."
   ]
  },
  {
   "cell_type": "markdown",
   "metadata": {},
   "source": [
    "# Machine Learning: Splitting the data into Training and Testing sample"
   ]
  },
  {
   "cell_type": "code",
   "execution_count": 99,
   "metadata": {},
   "outputs": [
    {
     "name": "stdout",
     "output_type": "stream",
     "text": [
      "[[3.8]\n",
      " [4.8]\n",
      " [2.5]\n",
      " [8.5]\n",
      " [4.5]\n",
      " [7.7]\n",
      " [9.2]\n",
      " [5.9]]\n"
     ]
    }
   ],
   "source": [
    "# Separate Target Variable and Predictor Variables\n",
    "TargetVariable='Scores'\n",
    "Predictors=['Hours']\n",
    "\n",
    "X=student_data[Predictors].values\n",
    "y=student_data[TargetVariable].values\n",
    "\n",
    "\n",
    "# Split the data into training and testing set\n",
    "from sklearn.model_selection import train_test_split\n",
    "X_train, X_test, y_train, y_test = train_test_split(X, y, test_size=0.3, random_state=4)\n",
    "print(X_test)"
   ]
  },
  {
   "cell_type": "markdown",
   "metadata": {},
   "source": [
    "# Multiple linear Regression"
   ]
  },
  {
   "cell_type": "code",
   "execution_count": 100,
   "metadata": {},
   "outputs": [
    {
     "name": "stdout",
     "output_type": "stream",
     "text": [
      "Measuring Goodness of fit\n",
      "R2 Value: 0.9506733363650617\n",
      "\n",
      " Plotting the regression line\n"
     ]
    },
    {
     "data": {
      "image/png": "[encoded data removed]",
      "text/plain": [
       "<Figure size 432x288 with 1 Axes>"
      ]
     },
     "metadata": {
      "needs_background": "light"
     },
     "output_type": "display_data"
    },
    {
     "name": "stdout",
     "output_type": "stream",
     "text": [
      "\n",
      "##### Test Data Predictions ##########\n",
      "\n",
      "   Hours  Scores  PredictedScores\n",
      "0    3.8      35           40.505\n",
      "1    4.8      54           50.462\n",
      "2    2.5      21           27.561\n",
      "3    8.5      75           87.303\n",
      "4    4.5      41           47.475\n",
      "5    7.7      85           79.338\n",
      "6    9.2      88           94.273\n",
      "7    5.9      62           61.415\n",
      "\n",
      "##### Visual Comparison of Predicted Values with Actual ##########\n"
     ]
    },
    {
     "data": {
      "image/png": "[encoded data removed]",
      "text/plain": [
       "<Figure size 432x288 with 1 Axes>"
      ]
     },
     "metadata": {
      "needs_background": "light"
     },
     "output_type": "display_data"
    },
    {
     "name": "stdout",
     "output_type": "stream",
     "text": [
      "\n",
      "##### Model Accuracy ##########\n",
      "Mean Accuracy on test data: 87.44336283766202\n",
      "Median Accuracy on test data: 88.57150974025974\n"
     ]
    }
   ],
   "source": [
    "# Multiple Linear Regression\n",
    "from sklearn.linear_model import LinearRegression\n",
    "RegModel = LinearRegression()\n",
    "\n",
    "# Creating the model on Training Data\n",
    "LREG=RegModel.fit(X_train,y_train)\n",
    "\n",
    "from sklearn import metrics\n",
    "print(\"Measuring Goodness of fit\")\n",
    "print('R2 Value:',metrics.r2_score(y, LREG.predict(X)))\n",
    "\n",
    "print(\"\\n Plotting the regression line\")\n",
    "line = LREG.coef_*X+LREG.intercept_\n",
    "\n",
    "# Plotting for the test data\n",
    "plt.scatter(X, y)\n",
    "plt.plot(X, line,color='green')\n",
    "plt.title('Regression line', size=20)\n",
    "plt.ylabel('The Percentage score', size=12)\n",
    "plt.xlabel('The Hours Studied', size=12)\n",
    "plt.show()\n",
    "\n",
    "##########################################################################\n",
    "print('\\n##### Test Data Predictions ##########\\n')\n",
    "\n",
    "\n",
    "# Printing some sample values of prediction\n",
    "prediction=LREG.predict(X_test)\n",
    "TestingDataResults=pd.DataFrame(data=X_test, columns=Predictors)\n",
    "TestingDataResults[TargetVariable]=y_test\n",
    "TestingDataResults[('Predicted'+TargetVariable)]=np.round(prediction,3)\n",
    "\n",
    "# Printing sample prediction values\n",
    "print(TestingDataResults)\n",
    "\n",
    "print('\\n##### Visual Comparison of Predicted Values with Actual ##########')\n",
    "plt.scatter(x=X_test, y=y_test, color='red')\n",
    "plt.plot(X_test, prediction, color='black')\n",
    "plt.title('Actual vs Predicted', size=20)\n",
    "plt.ylabel('The Percentage score', size=12)\n",
    "plt.xlabel('The Hours Studied', size=12)\n",
    "plt.show()\n",
    "\n",
    "print(\"\\n##### Model Accuracy ##########\") \n",
    "TestingDataResults['APE']=100 * ((abs(\n",
    "  TestingDataResults['Scores']-TestingDataResults['PredictedScores']))/TestingDataResults['Scores'])\n",
    "\n",
    "MAPE=np.mean(TestingDataResults['APE'])\n",
    "MedianMAPE=np.median(TestingDataResults['APE'])\n",
    "\n",
    "Accuracy =100 - MAPE\n",
    "MedianAccuracy=100- MedianMAPE\n",
    "print('Mean Accuracy on test data:', Accuracy) # Can be negative sometimes due to outlier\n",
    "print('Median Accuracy on test data:', MedianAccuracy)\n",
    "\n"
   ]
  },
  {
   "cell_type": "markdown",
   "metadata": {},
   "source": [
    "\n",
    "<b><big>What will be the predicted score of a student if he/she studies for 9.25 hrs/ day? <br></big></b>\n",
    "Now it's time to test our model with sample testing hours, so in this case, we take 9.25 hours, i.e, if a student studies for 9.25 hours, approximately how many marks he can get based on the data we received and the model we applied."
   ]
  },
  {
   "cell_type": "code",
   "execution_count": 102,
   "metadata": {},
   "outputs": [
    {
     "name": "stdout",
     "output_type": "stream",
     "text": [
      "No of Hours = [9.25]\n",
      "Predicted Score = 94.771\n"
     ]
    }
   ],
   "source": [
    "# You can also test with your own data\n",
    "sample_X = [9.25]\n",
    "sample_score=LREG.predict([sample_X])\n",
    "print(\"No of Hours = {}\".format(sample_X))\n",
    "print(\"Predicted Score = {}\".format(round(sample_score[0],3)))"
   ]
  },
  {
   "cell_type": "markdown",
   "metadata": {},
   "source": [
    "<b>\n",
    "According to the regression model if a student studies for 9.25 hours a day he/she is likely to score 94.78. </b>"
   ]
  }
 ],
 "metadata": {
  "kernelspec": {
   "display_name": "Python 3",
   "language": "python",
   "name": "python3"
  },
  "language_info": {
   "codemirror_mode": {
    "name": "ipython",
    "version": 3
   },
   "file_extension": ".py",
   "mimetype": "text/x-python",
   "name": "python",
   "nbconvert_exporter": "python",
   "pygments_lexer": "ipython3",
   "version": "3.8.5"
  }
 },
 "nbformat": 4,
 "nbformat_minor": 4
}
